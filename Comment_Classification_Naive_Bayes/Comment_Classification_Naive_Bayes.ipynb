{
  "cells": [
    {
      "cell_type": "markdown",
      "metadata": {
        "id": "ow-6qWk6QW3J"
      },
      "source": [
        "# **Tiền xử lý dữ liệu**"
      ]
    },
    {
      "cell_type": "code",
      "execution_count": 1,
      "metadata": {
        "id": "Xlc4mRlWQqHp"
      },
      "outputs": [],
      "source": [
        "import pandas as pd\n",
        "\n",
        "# Đọc dữ liệu từ file CSV\n",
        "df = pd.read_csv(\"data_10k.csv\")"
      ]
    },
    {
      "cell_type": "code",
      "execution_count": 2,
      "metadata": {
        "colab": {
          "base_uri": "https://localhost:8080/",
          "height": 175
        },
        "id": "fOy_IQ9OQrug",
        "outputId": "baf8b08f-035e-4d0c-c68a-050f62e90fcc"
      },
      "outputs": [
        {
          "data": {
            "text/html": [
              "<div>\n",
              "<style scoped>\n",
              "    .dataframe tbody tr th:only-of-type {\n",
              "        vertical-align: middle;\n",
              "    }\n",
              "\n",
              "    .dataframe tbody tr th {\n",
              "        vertical-align: top;\n",
              "    }\n",
              "\n",
              "    .dataframe thead tr th {\n",
              "        text-align: left;\n",
              "    }\n",
              "\n",
              "    .dataframe thead tr:last-of-type th {\n",
              "        text-align: right;\n",
              "    }\n",
              "</style>\n",
              "<table border=\"1\" class=\"dataframe\">\n",
              "  <thead>\n",
              "    <tr>\n",
              "      <th></th>\n",
              "      <th colspan=\"4\" halign=\"left\">comment</th>\n",
              "    </tr>\n",
              "    <tr>\n",
              "      <th></th>\n",
              "      <th>count</th>\n",
              "      <th>unique</th>\n",
              "      <th>top</th>\n",
              "      <th>freq</th>\n",
              "    </tr>\n",
              "    <tr>\n",
              "      <th>rating</th>\n",
              "      <th></th>\n",
              "      <th></th>\n",
              "      <th></th>\n",
              "      <th></th>\n",
              "    </tr>\n",
              "  </thead>\n",
              "  <tbody>\n",
              "    <tr>\n",
              "      <th>1</th>\n",
              "      <td>9826</td>\n",
              "      <td>9823</td>\n",
              "      <td>kém chất lượng</td>\n",
              "      <td>2</td>\n",
              "    </tr>\n",
              "    <tr>\n",
              "      <th>5</th>\n",
              "      <td>9727</td>\n",
              "      <td>9727</td>\n",
              "      <td>Hàng đẹp hơn mong đợi , chất lượng tốt phù hợ...</td>\n",
              "      <td>1</td>\n",
              "    </tr>\n",
              "  </tbody>\n",
              "</table>\n",
              "</div>"
            ],
            "text/plain": [
              "       comment                                                               \n",
              "         count unique                                                top freq\n",
              "rating                                                                       \n",
              "1         9826   9823                                     kém chất lượng    2\n",
              "5         9727   9727   Hàng đẹp hơn mong đợi , chất lượng tốt phù hợ...    1"
            ]
          },
          "execution_count": 2,
          "metadata": {},
          "output_type": "execute_result"
        }
      ],
      "source": [
        "# Nhóm số lượng dựa theo cột rating\n",
        "df.groupby('rating').describe()"
      ]
    },
    {
      "cell_type": "code",
      "execution_count": 3,
      "metadata": {
        "colab": {
          "base_uri": "https://localhost:8080/",
          "height": 363
        },
        "id": "aQ7LGXqKWdjf",
        "outputId": "9718d3f8-1060-41c5-de2f-0cd716e69a79"
      },
      "outputs": [
        {
          "data": {
            "text/html": [
              "<div>\n",
              "<style scoped>\n",
              "    .dataframe tbody tr th:only-of-type {\n",
              "        vertical-align: middle;\n",
              "    }\n",
              "\n",
              "    .dataframe tbody tr th {\n",
              "        vertical-align: top;\n",
              "    }\n",
              "\n",
              "    .dataframe thead th {\n",
              "        text-align: right;\n",
              "    }\n",
              "</style>\n",
              "<table border=\"1\" class=\"dataframe\">\n",
              "  <thead>\n",
              "    <tr style=\"text-align: right;\">\n",
              "      <th></th>\n",
              "      <th>rating</th>\n",
              "      <th>comment</th>\n",
              "    </tr>\n",
              "  </thead>\n",
              "  <tbody>\n",
              "    <tr>\n",
              "      <th>0</th>\n",
              "      <td>1</td>\n",
              "      <td>Đóng gói cận thận, độ chống nhìn trộm t/bình, ...</td>\n",
              "    </tr>\n",
              "    <tr>\n",
              "      <th>1</th>\n",
              "      <td>1</td>\n",
              "      <td>sản phầm chưa dùng đã hỏng, Sản phầm không đún...</td>\n",
              "    </tr>\n",
              "    <tr>\n",
              "      <th>2</th>\n",
              "      <td>1</td>\n",
              "      <td>Sản phẩm giao chưa đúng theo yêu cầu, Shop khô...</td>\n",
              "    </tr>\n",
              "    <tr>\n",
              "      <th>3</th>\n",
              "      <td>1</td>\n",
              "      <td>trừ 1 sao vì đóng gói ẩu, chỉ lồng duy nhất tú...</td>\n",
              "    </tr>\n",
              "    <tr>\n",
              "      <th>4</th>\n",
              "      <td>1</td>\n",
              "      <td>*Hãy xem đánh giá 1⭐, Rất bức xúc😡Không đáng 1...</td>\n",
              "    </tr>\n",
              "    <tr>\n",
              "      <th>5</th>\n",
              "      <td>1</td>\n",
              "      <td>. Loa mới dùng 1 ngày là hông nghe tiếng nữa💁‍...</td>\n",
              "    </tr>\n",
              "    <tr>\n",
              "      <th>6</th>\n",
              "      <td>1</td>\n",
              "      <td>.thiếu 1. Số dụng củ</td>\n",
              "    </tr>\n",
              "    <tr>\n",
              "      <th>7</th>\n",
              "      <td>1</td>\n",
              "      <td>?????? Nhầm hàng shop ơi cái này là cái gì :D ...</td>\n",
              "    </tr>\n",
              "    <tr>\n",
              "      <th>8</th>\n",
              "      <td>1</td>\n",
              "      <td>??shop đặt dây 20w về dây 27w</td>\n",
              "    </tr>\n",
              "    <tr>\n",
              "      <th>9</th>\n",
              "      <td>1</td>\n",
              "      <td>_QUÁ TỆ_ Khuyên thật các bạn đừng mua hàng sho...</td>\n",
              "    </tr>\n",
              "  </tbody>\n",
              "</table>\n",
              "</div>"
            ],
            "text/plain": [
              "   rating                                            comment\n",
              "0       1  Đóng gói cận thận, độ chống nhìn trộm t/bình, ...\n",
              "1       1  sản phầm chưa dùng đã hỏng, Sản phầm không đún...\n",
              "2       1  Sản phẩm giao chưa đúng theo yêu cầu, Shop khô...\n",
              "3       1  trừ 1 sao vì đóng gói ẩu, chỉ lồng duy nhất tú...\n",
              "4       1  *Hãy xem đánh giá 1⭐, Rất bức xúc😡Không đáng 1...\n",
              "5       1  . Loa mới dùng 1 ngày là hông nghe tiếng nữa💁‍...\n",
              "6       1                               .thiếu 1. Số dụng củ\n",
              "7       1  ?????? Nhầm hàng shop ơi cái này là cái gì :D ...\n",
              "8       1                      ??shop đặt dây 20w về dây 27w\n",
              "9       1  _QUÁ TỆ_ Khuyên thật các bạn đừng mua hàng sho..."
            ]
          },
          "execution_count": 3,
          "metadata": {},
          "output_type": "execute_result"
        }
      ],
      "source": [
        "df.head(10)"
      ]
    },
    {
      "cell_type": "code",
      "execution_count": 4,
      "metadata": {
        "id": "0NRVesJtVLOX"
      },
      "outputs": [],
      "source": [
        "import re\n",
        "\n",
        "# Làm sạch văn bản\n",
        "def clean_text(text):\n",
        "\n",
        "    #Loại bỏ email\n",
        "    text = ' '.join([i for i in text.split() if '@' not in i])\n",
        "\n",
        "    #Loại bỏ website\n",
        "    text = re.sub('http[s]?://\\S+', ' ', text)\n",
        "\n",
        "    #Loại bỏ tất cả các dấu câu và ký tự không phải chữ cái và số.\n",
        "    text = re.sub(r'[^\\w\\s]', ' ', text)\n",
        "\n",
        "    #oại bỏ tất cả các khoảng trắng nhiều hơn 1 và thay thế chúng bằng một khoảng trắng duy nhất.\n",
        "    text = re.sub('\\s+', ' ', text)\n",
        "\n",
        "    return text\n",
        "\n",
        "df[\"clean_comment\"] = df.comment.apply(lambda x: clean_text(x))"
      ]
    },
    {
      "cell_type": "code",
      "execution_count": 5,
      "metadata": {
        "colab": {
          "base_uri": "https://localhost:8080/",
          "height": 363
        },
        "id": "zRwsB349obfj",
        "outputId": "431e8aa9-7b9a-422b-bf3c-de5bb4954221"
      },
      "outputs": [
        {
          "data": {
            "text/html": [
              "<div>\n",
              "<style scoped>\n",
              "    .dataframe tbody tr th:only-of-type {\n",
              "        vertical-align: middle;\n",
              "    }\n",
              "\n",
              "    .dataframe tbody tr th {\n",
              "        vertical-align: top;\n",
              "    }\n",
              "\n",
              "    .dataframe thead th {\n",
              "        text-align: right;\n",
              "    }\n",
              "</style>\n",
              "<table border=\"1\" class=\"dataframe\">\n",
              "  <thead>\n",
              "    <tr style=\"text-align: right;\">\n",
              "      <th></th>\n",
              "      <th>rating</th>\n",
              "      <th>comment</th>\n",
              "    </tr>\n",
              "  </thead>\n",
              "  <tbody>\n",
              "    <tr>\n",
              "      <th>0</th>\n",
              "      <td>1</td>\n",
              "      <td>Đóng gói cận thận độ chống nhìn trộm t bình Độ...</td>\n",
              "    </tr>\n",
              "    <tr>\n",
              "      <th>1</th>\n",
              "      <td>1</td>\n",
              "      <td>sản phầm chưa dùng đã hỏng Sản phầm không đúng...</td>\n",
              "    </tr>\n",
              "    <tr>\n",
              "      <th>2</th>\n",
              "      <td>1</td>\n",
              "      <td>Sản phẩm giao chưa đúng theo yêu cầu Shop khôn...</td>\n",
              "    </tr>\n",
              "    <tr>\n",
              "      <th>3</th>\n",
              "      <td>1</td>\n",
              "      <td>trừ 1 sao vì đóng gói ẩu chỉ lồng duy nhất túi...</td>\n",
              "    </tr>\n",
              "    <tr>\n",
              "      <th>4</th>\n",
              "      <td>1</td>\n",
              "      <td>Hãy xem đánh giá 1 Rất bức xúc Không đáng 1 s...</td>\n",
              "    </tr>\n",
              "    <tr>\n",
              "      <th>5</th>\n",
              "      <td>1</td>\n",
              "      <td>Loa mới dùng 1 ngày là hông nghe tiếng nữa Đú...</td>\n",
              "    </tr>\n",
              "    <tr>\n",
              "      <th>6</th>\n",
              "      <td>1</td>\n",
              "      <td>thiếu 1 Số dụng củ</td>\n",
              "    </tr>\n",
              "    <tr>\n",
              "      <th>7</th>\n",
              "      <td>1</td>\n",
              "      <td>Nhầm hàng shop ơi cái này là cái gì D mất 65k...</td>\n",
              "    </tr>\n",
              "    <tr>\n",
              "      <th>8</th>\n",
              "      <td>1</td>\n",
              "      <td>shop đặt dây 20w về dây 27w</td>\n",
              "    </tr>\n",
              "    <tr>\n",
              "      <th>9</th>\n",
              "      <td>1</td>\n",
              "      <td>_QUÁ TỆ_ Khuyên thật các bạn đừng mua hàng sho...</td>\n",
              "    </tr>\n",
              "  </tbody>\n",
              "</table>\n",
              "</div>"
            ],
            "text/plain": [
              "   rating                                            comment\n",
              "0       1  Đóng gói cận thận độ chống nhìn trộm t bình Độ...\n",
              "1       1  sản phầm chưa dùng đã hỏng Sản phầm không đúng...\n",
              "2       1  Sản phẩm giao chưa đúng theo yêu cầu Shop khôn...\n",
              "3       1  trừ 1 sao vì đóng gói ẩu chỉ lồng duy nhất túi...\n",
              "4       1   Hãy xem đánh giá 1 Rất bức xúc Không đáng 1 s...\n",
              "5       1   Loa mới dùng 1 ngày là hông nghe tiếng nữa Đú...\n",
              "6       1                                 thiếu 1 Số dụng củ\n",
              "7       1   Nhầm hàng shop ơi cái này là cái gì D mất 65k...\n",
              "8       1                        shop đặt dây 20w về dây 27w\n",
              "9       1  _QUÁ TỆ_ Khuyên thật các bạn đừng mua hàng sho..."
            ]
          },
          "execution_count": 5,
          "metadata": {},
          "output_type": "execute_result"
        }
      ],
      "source": [
        "# bỏ cột \"comment\" gốc\n",
        "df = df.drop(['comment'], axis=1)\n",
        "\n",
        "# Đổi tên cột \"clean_comment\" thành \"comment\"\n",
        "df.rename(columns = {'clean_comment':'comment'}, inplace = True)\n",
        "\n",
        "df.head(10)"
      ]
    },
    {
      "cell_type": "code",
      "execution_count": 6,
      "metadata": {
        "id": "-Zwiswk-QtIo"
      },
      "outputs": [],
      "source": [
        "import re\n",
        "\n",
        "# Thay thế \"\\n\\n\" bằng \". \" và \"\\n\" bằng \" \"\n",
        "df['comment'] = df['comment'].str.replace(\"\\n\\n\", \", \")\n",
        "df['comment'] = df['comment'].str.replace(\"\\n\", \", \")\n",
        "\n",
        "# Kiểm tra độ dài và xoá các dòng có ít hơn 15 ký tự trong cột \"comment\"\n",
        "min_length = 15\n",
        "df = df[df['comment'].apply(lambda x: len(str(x)) >= min_length)]\n",
        "\n",
        "# Kiểm tra và xóa các dòng có văn bản trùng lặp trong cột \"comment\"\n",
        "df = df.copy()\n",
        "df.drop_duplicates(subset=\"comment\", keep=\"first\", inplace=True)\n",
        "\n",
        "def remove_rows_with_keywords(comment):\n",
        "    keywords = [\"[TB]\", \"[QC]\", \"(QC)\", \"(TB)\", \"(AD)\", \"quý khách\", \"quy khach\"]\n",
        "\n",
        "    for keyword in keywords:\n",
        "        if re.search(re.escape(keyword), str(comment), flags=re.IGNORECASE):\n",
        "            return None  # Trả về None để xóa hàng\n",
        "\n",
        "    return comment\n",
        "\n",
        "# Áp dụng hàm cho cột \"comment\"\n",
        "df['comment'] = df['comment'].apply(remove_rows_with_keywords)\n",
        "\n",
        "# Loại bỏ các hàng có giá trị là None\n",
        "df = df.dropna(subset=['comment'])\n",
        "\n",
        "# Chuyển đổi giá trị trong cột \"rating\"\n",
        "df['rating'] = df['rating'].replace({1: 'negative', 5: 'positive'})\n",
        "\n",
        "# Lưu lại DataFrame vào file CSV mới\n",
        "df.to_csv(\"data_processed.csv\", index=False, encoding='utf-8-sig')"
      ]
    },
    {
      "cell_type": "code",
      "execution_count": 7,
      "metadata": {
        "colab": {
          "base_uri": "https://localhost:8080/",
          "height": 175
        },
        "id": "qL_Q0wRlQ7vw",
        "outputId": "b7dceb56-0211-4131-f013-c8a31d93cc24"
      },
      "outputs": [
        {
          "data": {
            "text/html": [
              "<div>\n",
              "<style scoped>\n",
              "    .dataframe tbody tr th:only-of-type {\n",
              "        vertical-align: middle;\n",
              "    }\n",
              "\n",
              "    .dataframe tbody tr th {\n",
              "        vertical-align: top;\n",
              "    }\n",
              "\n",
              "    .dataframe thead tr th {\n",
              "        text-align: left;\n",
              "    }\n",
              "\n",
              "    .dataframe thead tr:last-of-type th {\n",
              "        text-align: right;\n",
              "    }\n",
              "</style>\n",
              "<table border=\"1\" class=\"dataframe\">\n",
              "  <thead>\n",
              "    <tr>\n",
              "      <th></th>\n",
              "      <th colspan=\"4\" halign=\"left\">comment</th>\n",
              "    </tr>\n",
              "    <tr>\n",
              "      <th></th>\n",
              "      <th>count</th>\n",
              "      <th>unique</th>\n",
              "      <th>top</th>\n",
              "      <th>freq</th>\n",
              "    </tr>\n",
              "    <tr>\n",
              "      <th>rating</th>\n",
              "      <th></th>\n",
              "      <th></th>\n",
              "      <th></th>\n",
              "      <th></th>\n",
              "    </tr>\n",
              "  </thead>\n",
              "  <tbody>\n",
              "    <tr>\n",
              "      <th>negative</th>\n",
              "      <td>9672</td>\n",
              "      <td>9672</td>\n",
              "      <td>Đóng gói cận thận độ chống nhìn trộm t bình Độ...</td>\n",
              "      <td>1</td>\n",
              "    </tr>\n",
              "    <tr>\n",
              "      <th>positive</th>\n",
              "      <td>9672</td>\n",
              "      <td>9672</td>\n",
              "      <td>Hàng đẹp hơn mong đợi chất lượng tốt phù hợp v...</td>\n",
              "      <td>1</td>\n",
              "    </tr>\n",
              "  </tbody>\n",
              "</table>\n",
              "</div>"
            ],
            "text/plain": [
              "         comment                                                            \\\n",
              "           count unique                                                top   \n",
              "rating                                                                       \n",
              "negative    9672   9672  Đóng gói cận thận độ chống nhìn trộm t bình Độ...   \n",
              "positive    9672   9672  Hàng đẹp hơn mong đợi chất lượng tốt phù hợp v...   \n",
              "\n",
              "               \n",
              "         freq  \n",
              "rating         \n",
              "negative    1  \n",
              "positive    1  "
            ]
          },
          "execution_count": 7,
          "metadata": {},
          "output_type": "execute_result"
        }
      ],
      "source": [
        "# Đọc dữ liệu từ file CSV đã xử lý\n",
        "comment_df = pd.read_csv(\"data_processed.csv\")\n",
        "\n",
        "# Nhóm số lượng dựa theo cột rating\n",
        "comment_df.groupby('rating').describe()"
      ]
    },
    {
      "cell_type": "code",
      "execution_count": 8,
      "metadata": {
        "id": "rau9q-uur00z"
      },
      "outputs": [],
      "source": [
        "from stop_words import get_stop_words\n",
        "from underthesea import word_tokenize\n",
        "from nltk.stem.porter import PorterStemmer\n",
        "\n",
        "stopwords_vi = get_stop_words('vi')  # Danh sách stopwords tiếng Việt\n",
        "list_word = []\n",
        "ps = PorterStemmer()\n",
        "\n",
        "for i in range(len(comment_df)):\n",
        "        review = comment_df['comment'][i].lower()\n",
        "\n",
        "        # Chuyển đổi thành danh sách từ sử dụng word_tokenize\n",
        "        words = word_tokenize(review, format=\"text\")\n",
        "\n",
        "        # Tiếp tục với các bước xử lý tiếp theo nếu cần\n",
        "        words = [ps.stem(word) for word in words.split() if word not in stopwords_vi]\n",
        "        review = ' '.join(words)\n",
        "        list_word.append(review)"
      ]
    },
    {
      "cell_type": "code",
      "execution_count": 9,
      "metadata": {
        "id": "ZnO2mDOtwa_i"
      },
      "outputs": [],
      "source": [
        "# Chuyển đổi dữ liệu văn bản sang dạng vector bằng TFIDF VECTORIZER\n",
        "from sklearn.feature_extraction.text import TfidfVectorizer\n",
        "cv=TfidfVectorizer(max_features=500)\n",
        "x=cv.fit_transform(list_word).toarray()"
      ]
    },
    {
      "cell_type": "code",
      "execution_count": 10,
      "metadata": {
        "id": "tVCWgFzxwr8V"
      },
      "outputs": [],
      "source": [
        "y=df['rating']"
      ]
    },
    {
      "cell_type": "markdown",
      "metadata": {
        "id": "7a-wQnIBwxDA"
      },
      "source": [
        "# **Xây dựng mô hình huấn luyện**"
      ]
    },
    {
      "cell_type": "code",
      "execution_count": 11,
      "metadata": {
        "id": "mQngCSfSkR5B"
      },
      "outputs": [],
      "source": [
        "# Chia dữ liệu thành 2 tập train, test\n",
        "from sklearn.model_selection import train_test_split\n",
        "x_train, x_test, y_train, y_test = train_test_split(x, y, test_size=0.2, random_state=0)"
      ]
    },
    {
      "cell_type": "code",
      "execution_count": 12,
      "metadata": {
        "id": "aHTFWwRLkthN"
      },
      "outputs": [],
      "source": [
        "from sklearn.naive_bayes import MultinomialNB\n",
        "clf=MultinomialNB()\n",
        "clf.fit(x_train, y_train)\n",
        "y_pred=clf.predict(x_test)"
      ]
    },
    {
      "cell_type": "code",
      "execution_count": 13,
      "metadata": {
        "colab": {
          "base_uri": "https://localhost:8080/"
        },
        "id": "7NeG7AWsw7yA",
        "outputId": "9dbe95b9-1371-4861-937a-b92133fd6dcc"
      },
      "outputs": [
        {
          "name": "stdout",
          "output_type": "stream",
          "text": [
            "[[1740  148]\n",
            " [ 145 1836]]\n",
            "              precision    recall  f1-score   support\n",
            "\n",
            "    negative       0.92      0.92      0.92      1888\n",
            "    positive       0.93      0.93      0.93      1981\n",
            "\n",
            "    accuracy                           0.92      3869\n",
            "   macro avg       0.92      0.92      0.92      3869\n",
            "weighted avg       0.92      0.92      0.92      3869\n",
            "\n",
            "accuracy_score:  0.9242698371672267\n"
          ]
        }
      ],
      "source": [
        "from sklearn.metrics import confusion_matrix, classification_report, accuracy_score\n",
        "print(confusion_matrix(y_test, y_pred))\n",
        "print(classification_report(y_test, y_pred))\n",
        "print('accuracy_score: ', accuracy_score(y_test, y_pred))"
      ]
    },
    {
      "cell_type": "code",
      "execution_count": 15,
      "metadata": {
        "colab": {
          "base_uri": "https://localhost:8080/"
        },
        "id": "5rfYKrUVzh2l",
        "outputId": "911c81fb-cee0-4d5c-b583-635c7afe518f"
      },
      "outputs": [
        {
          "name": "stdout",
          "output_type": "stream",
          "text": [
            "Đánh giá trên thuộc loại: ['negative']\n"
          ]
        }
      ],
      "source": [
        "from underthesea import word_tokenize\n",
        "from sklearn.feature_extraction.text import TfidfVectorizer\n",
        "\n",
        "# Hàm tiền xử lý cho một đoạn văn bản\n",
        "def preprocess_text(text):\n",
        "    # Thực hiện các bước tiền xử lý tương tự như trong quá trình huấn luyện\n",
        "    words = word_tokenize(text, format=\"text\")\n",
        "    words = [ps.stem(word) for word in words.split() if word not in stopwords_vi]\n",
        "    return ' '.join(words)\n",
        "\n",
        "# Chuẩn bị dữ liệu đầu vào mới\n",
        "# new_text = \"Sản phẩm tốt nên mua, giao hàng nhanh\"\n",
        "new_text = \"hàng kém chất lượng, đánh giá 1 sao\"\n",
        "preprocessed_text = preprocess_text(new_text)\n",
        "\n",
        "# Sử dụng TfidfVectorizer để chuyển đổi đoạn văn bản thành vectơ TF-IDF\n",
        "new_text_vector = cv.transform([preprocessed_text]).toarray()\n",
        "\n",
        "# Dự đoán bằng mô hình đã huấn luyện\n",
        "prediction = clf.predict(new_text_vector)\n",
        "\n",
        "# In kết quả dự đoán\n",
        "print(\"Đánh giá trên thuộc loại:\", prediction)"
      ]
    }
  ],
  "metadata": {
    "colab": {
      "provenance": []
    },
    "kernelspec": {
      "display_name": "Python 3",
      "name": "python3"
    },
    "language_info": {
      "codemirror_mode": {
        "name": "ipython",
        "version": 3
      },
      "file_extension": ".py",
      "mimetype": "text/x-python",
      "name": "python",
      "nbconvert_exporter": "python",
      "pygments_lexer": "ipython3",
      "version": "3.10.6"
    }
  },
  "nbformat": 4,
  "nbformat_minor": 0
}
